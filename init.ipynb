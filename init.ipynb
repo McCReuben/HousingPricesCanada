{
 "cells": [
  {
   "attachments": {},
   "cell_type": "markdown",
   "metadata": {},
   "source": [
    "The other day, I came across a tiktok that made me do a double take. Data enthusiast MillenialMoron had shared some graphs which compared how the housing crisis was experienced between the US and Canada. The data he shared was shocking, it seemed as though the Canadian working class was 4x worse off than their American counterparts. This fact, if true, would be almost unbelivable to most Canadians. My data antennas started buzzing and my had to look deeper. "
   ]
  },
  {
   "attachments": {},
   "cell_type": "markdown",
   "metadata": {},
   "source": [
    "See the clip here:\n",
    "\n",
    "and the data is sourced from here: https://www.financialsamurai.com/canadian-housing-market/"
   ]
  },
  {
   "attachments": {},
   "cell_type": "markdown",
   "metadata": {},
   "source": [
    "![](images/US-versus-Canada-housing.webp)"
   ]
  },
  {
   "attachments": {},
   "cell_type": "markdown",
   "metadata": {},
   "source": [
    "Now, what is this data telling us? It certainly gives the impression that Canada's housing market has spiraled out of control since the 70s, in a way that dwarfs the housing market in the United States. However, the choice of data here seems strange and arbitrary. Why is the  graph based on the relative change of housing prices to the disposable income of an average 1970s individual? \n",
    "\n",
    "I have a process for determining whether a graph is leading me in the wrong direction: *Start from the conclusion and work backwards*. Step-by-step that looks like this:\n",
    "    \n",
    "    1. What conclusion have I drawn from these graphs, and what question does it answer?\n",
    "        - Conclution: Canada's housing market has far worse than the US housing market\n",
    "        - Question: How do the aforadability of the housing markets in Canada and the United States compare to each other?\n",
    "    2. Staring from this question, how would I come up with the answer by myself?\n",
    "        - If I wanted to compare the two housing markets, the first thing I would do is simply plot the ratio of housing prices to the average disposable income on the same graph. This gives the clearest comparision between the two markets. Doing so yeilds the following graph:\n",
    "         "
   ]
  },
  {
   "attachments": {},
   "cell_type": "markdown",
   "metadata": {},
   "source": [
    "<iframe src=\"https://data.oecd.org/chart/76Vf\" width=\"860\" height=\"645\" style=\"border: 0\" mozallowfullscreen=\"true\" webkitallowfullscreen=\"true\" allowfullscreen=\"true\"><a href=\"https://data.oecd.org/chart/76Vf\" target=\"_blank\">OECD Chart: Housing prices, Price to income ratio, 2015=100, Quarterly, Q3 1975 – Q1 2023</a></iframe>"
   ]
  },
  {
   "attachments": {},
   "cell_type": "markdown",
   "metadata": {},
   "source": [
    "ah, now this tells a slightly different story. Leading us to our final step:\n",
    "    \n",
    "    3. Can we draw the same conclusion we started with?\n",
    "        No. We can now see that when it comes to affordability, Canada's housing market is worse but only by a litte. \n",
    "    \n",
    "The reason for the misleading first graphs is that they independently choose the average income and housing price in the 1970s as a frame of reference for both graphs, then they treat these references as though they are equal when they are very different. Housing prices in Canada were nearly half that of the US (and the rest of the developed world) in the 70s, and the apparent explosion has more to do with our market 'catching up' than spiraling out of control. \n",
    "\n",
    "It's importent to note that the housing market in both countries is completely bonkers, and horribly unafforable to the working class. If the first pair of graphs gave you the impression that Canada's housing market was extrmemly unafforable, then there's an argument to be made that no misinformation was actually spread. All the same, this viral phenomenon serves as a warning to how misleading the scale can be when comparing graphs that track *relative* change. \n"
   ]
  }
 ],
 "metadata": {
  "language_info": {
   "name": "python"
  },
  "orig_nbformat": 4
 },
 "nbformat": 4,
 "nbformat_minor": 2
}
