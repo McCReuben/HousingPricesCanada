{
 "cells": [
  {
   "attachments": {},
   "cell_type": "markdown",
   "metadata": {},
   "source": [
    "The other day, I came across a tiktok that made me do a double take. Data enthusiast MillenialMoron had shared some graphs which compared how the housing crisis was experienced between the US and Canada. The data he shared was shocking, it seemed as though the Canadian working class was 4x worse of than their American counterparts, a fact that, if true, would be almost unbelivable to most Canadians. My data antennas started buzzing and my had to look deeper. "
   ]
  },
  {
   "attachments": {},
   "cell_type": "markdown",
   "metadata": {},
   "source": [
    "See the clip here:\n",
    "\n",
    "and the data is sourced from here: https://www.financialsamurai.com/canadian-housing-market/"
   ]
  },
  {
   "attachments": {},
   "cell_type": "markdown",
   "metadata": {},
   "source": [
    "![](images/US-versus-Canada-housing.webp)"
   ]
  },
  {
   "attachments": {},
   "cell_type": "markdown",
   "metadata": {},
   "source": [
    "Now let's combine the disposable income and house prices into a single metric, and take a ratio of the income and housing price. If we plot the US and Canada on the same graph, this is what we get:"
   ]
  },
  {
   "attachments": {},
   "cell_type": "markdown",
   "metadata": {},
   "source": [
    "<iframe src=\"https://data.oecd.org/chart/76Vf\" width=\"860\" height=\"645\" style=\"border: 0\" mozallowfullscreen=\"true\" webkitallowfullscreen=\"true\" allowfullscreen=\"true\"><a href=\"https://data.oecd.org/chart/76Vf\" target=\"_blank\">OECD Chart: Housing prices, Price to income ratio, 2015=100, Quarterly, Q3 1975 – Q1 2023</a></iframe>"
   ]
  },
  {
   "attachments": {},
   "cell_type": "markdown",
   "metadata": {},
   "source": [
    "ah, now this tells a slightly different story. "
   ]
  },
  {
   "attachments": {},
   "cell_type": "markdown",
   "metadata": {},
   "source": [
    "First off, what are we looking at here? The graphs he shares compare Real (meaning adjusted for inflation) home prices and real disposable income (meaning income after income tax). \n",
    "He claims that \"the situation in Canada is actually substantially worse than the US right now.\"\n",
    "The issue I take is with the word worse, I think most people will associate a worse housing market with a less affordable one. So yes, Canada's housing market is worse, but is it as dramatic as it seems from the video? Not quite. \n",
    "\n"
   ]
  }
 ],
 "metadata": {
  "language_info": {
   "name": "python"
  },
  "orig_nbformat": 4
 },
 "nbformat": 4,
 "nbformat_minor": 2
}
